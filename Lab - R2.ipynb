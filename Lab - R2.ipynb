{
 "cells": [
  {
   "cell_type": "markdown",
   "id": "7a4e4e62-8711-4d0a-83c8-faa307a2e987",
   "metadata": {},
   "source": [
    "# Laboratorio de regresión - 2"
   ]
  },
  {
   "cell_type": "markdown",
   "id": "7b38b195-8582-4ed7-97b0-a3855ce01280",
   "metadata": {},
   "source": [
    "|                |   |\r\n",
    ":----------------|---|\r\n",
    "| **Nombre**     |   |\r\n",
    "| **Fecha**      |   |\r\n",
    "| **Expediente** |   |"
   ]
  },
  {
   "cell_type": "markdown",
   "id": "a6082e53-e43d-4ee0-92f2-ffd70896433c",
   "metadata": {},
   "source": [
    "## Regresión polinomial"
   ]
  },
  {
   "cell_type": "markdown",
   "id": "2b1f0c45-cfed-4055-a6bf-7db9b050f024",
   "metadata": {},
   "source": [
    "Observa la siguiente gráfica."
   ]
  },
  {
   "cell_type": "code",
   "execution_count": 3,
   "id": "e7002d3a-ad96-4997-a13a-7d54ed1b305b",
   "metadata": {},
   "outputs": [
    {
     "data": {
      "image/png": "[encoded data removed]",
      "text/plain": [
       "<Figure size 640x480 with 1 Axes>"
      ]
     },
     "metadata": {},
     "output_type": "display_data"
    }
   ],
   "source": [
    "import matplotlib.pyplot as plt; import numpy as np\n",
    "%matplotlib inline\n",
    "np.random.seed(0)\n",
    "x = np.linspace(-3, 3, 100); y = 1 + 4*x**2 + np.random.normal(0, 1, 100)\n",
    "plt.figure(); plt.xlabel(\"x\"); plt.ylabel(\"y\")\n",
    "plt.scatter(x, y); plt.grid()"
   ]
  },
  {
   "cell_type": "markdown",
   "id": "92db6dbc-d306-47da-b3c8-d096e3e2df2a",
   "metadata": {},
   "source": [
    "Utiliza `sklearn` para realizar una regresión lineal simple ($\\hat{y} = \\hat{\\beta_0} + \\hat{\\beta_1}x $)"
   ]
  },
  {
   "cell_type": "code",
   "execution_count": null,
   "id": "5d57338e-3a33-46a3-af6a-8ed15f528ea9",
   "metadata": {},
   "outputs": [],
   "source": []
  },
  {
   "cell_type": "code",
   "execution_count": null,
   "id": "5768a205-2a91-4ff3-95cb-623bc7c66946",
   "metadata": {},
   "outputs": [],
   "source": []
  },
  {
   "cell_type": "code",
   "execution_count": null,
   "id": "e469aeae-6282-4e00-9eba-d2026d84b816",
   "metadata": {},
   "outputs": [],
   "source": []
  },
  {
   "cell_type": "markdown",
   "id": "f502e65c-1b27-416b-95e2-bf7ae7a0a98e",
   "metadata": {},
   "source": [
    "Crea una gráfica donde se muestren las observaciones como una nube de puntos y la línea que ajustaste con regresión. Calcula el métrico $R^2$."
   ]
  },
  {
   "cell_type": "code",
   "execution_count": null,
   "id": "3ca07784-67e6-425e-9a17-2f61a89ccd73",
   "metadata": {},
   "outputs": [],
   "source": []
  },
  {
   "cell_type": "code",
   "execution_count": null,
   "id": "c6d57bdd-8eb6-406b-a3af-31a0d2498c37",
   "metadata": {},
   "outputs": [],
   "source": []
  },
  {
   "cell_type": "code",
   "execution_count": null,
   "id": "fb7de68f-0c72-431b-b271-ef900678d874",
   "metadata": {},
   "outputs": [],
   "source": []
  },
  {
   "cell_type": "markdown",
   "id": "c03da762-f117-44eb-a4c0-35127d4015ec",
   "metadata": {},
   "source": [
    "Podemos ver que el ajuste no es correcto, pues parece que tiene un comportamiento cuadrático y estamos intentando ajustar una línea recta.\n",
    "\n",
    "En lugar de hacer una regresión lineal simple, quizás podamos extender el modelo para que tenga varios factores dentro:\n",
    "\n",
    "$$ Y = \\beta_0 + \\beta_1 X + \\beta_2 X^2 + ... + \\beta_p X^p + \\epsilon$$"
   ]
  },
  {
   "cell_type": "markdown",
   "id": "7156f7d5-9f2a-41ef-a04c-3dfdbad0b6a0",
   "metadata": {},
   "source": [
    "Ajusta un modelo cuadrático con `sklearn` ($\\hat{y} = \\hat{\\beta_0} + \\hat{\\beta_1}x + \\hat{\\beta_1}x^2 $) y calcula su $R^2$."
   ]
  },
  {
   "cell_type": "code",
   "execution_count": null,
   "id": "990d3b90-0e33-40c0-ada2-db7a31c41d0e",
   "metadata": {},
   "outputs": [],
   "source": []
  },
  {
   "cell_type": "code",
   "execution_count": null,
   "id": "e808ce47-c967-47cb-bf97-40c75723ef08",
   "metadata": {},
   "outputs": [],
   "source": []
  },
  {
   "cell_type": "code",
   "execution_count": null,
   "id": "82671620-c46c-494e-a6a4-d5ca7b88d004",
   "metadata": {},
   "outputs": [],
   "source": []
  },
  {
   "cell_type": "markdown",
   "id": "31128e88-6fa1-4869-a805-8f49502c7ba7",
   "metadata": {},
   "source": [
    "Crea una gráfica con las observaciones y la nueva curva que ajustaste."
   ]
  },
  {
   "cell_type": "code",
   "execution_count": null,
   "id": "425c515f-715c-4062-be4c-3cefa8d15940",
   "metadata": {},
   "outputs": [],
   "source": []
  },
  {
   "cell_type": "code",
   "execution_count": null,
   "id": "f269041e-72ab-4226-b5c9-a479766269aa",
   "metadata": {},
   "outputs": [],
   "source": []
  },
  {
   "cell_type": "code",
   "execution_count": null,
   "id": "dced1b88-27f0-4a19-8ddf-7964bbdfb0da",
   "metadata": {},
   "outputs": [],
   "source": []
  },
  {
   "cell_type": "markdown",
   "id": "f3dead38-e66b-4747-aee8-fed194449f61",
   "metadata": {},
   "source": [
    "Ajusta modelos de grados 3, 5, 7, 9, y 11. Calcula su $R^2$."
   ]
  },
  {
   "cell_type": "code",
   "execution_count": null,
   "id": "d05e5c74-58a5-4cf4-8b37-dfe88b0ae969",
   "metadata": {},
   "outputs": [],
   "source": []
  },
  {
   "cell_type": "code",
   "execution_count": null,
   "id": "4bc967f5-54a0-467a-b8a6-7a700ccaa7f4",
   "metadata": {},
   "outputs": [],
   "source": []
  },
  {
   "cell_type": "code",
   "execution_count": null,
   "id": "429a8a4f-bf3c-4ff3-9af3-086b5b9e1c82",
   "metadata": {},
   "outputs": [],
   "source": []
  },
  {
   "cell_type": "markdown",
   "id": "31d0fa99-744c-4ba5-bf67-9ddd1b654940",
   "metadata": {},
   "source": [
    "Crea una gráfica por cada modelo con las observaciones y su curva."
   ]
  },
  {
   "cell_type": "code",
   "execution_count": null,
   "id": "e496f1a6-119a-45e7-ac1f-8c40d22fb69c",
   "metadata": {},
   "outputs": [],
   "source": []
  },
  {
   "cell_type": "code",
   "execution_count": null,
   "id": "2585e815-cf12-4a1f-b688-8136a98b720c",
   "metadata": {},
   "outputs": [],
   "source": []
  },
  {
   "cell_type": "code",
   "execution_count": null,
   "id": "ca106b81-352d-4ffd-8dee-5935aab3afa6",
   "metadata": {},
   "outputs": [],
   "source": []
  },
  {
   "cell_type": "markdown",
   "id": "7ef3cfe6-c589-4ea8-8f64-6810333d4763",
   "metadata": {},
   "source": [
    "**¿Cuál modelo consideras que es mejor? ¿Por qué?**"
   ]
  },
  {
   "cell_type": "code",
   "execution_count": null,
   "id": "0bce0780-f42f-4fdb-9f84-bacded0db2e2",
   "metadata": {},
   "outputs": [],
   "source": []
  },
  {
   "cell_type": "code",
   "execution_count": null,
   "id": "0e6bbf91-1577-4630-a277-075dec54212b",
   "metadata": {},
   "outputs": [],
   "source": []
  },
  {
   "cell_type": "code",
   "execution_count": null,
   "id": "fe74e5c3-76cd-4340-ade2-c860d63fa4a7",
   "metadata": {},
   "outputs": [],
   "source": []
  },
  {
   "cell_type": "markdown",
   "id": "00858f3e-79d0-485b-91e0-65b06efc2a44",
   "metadata": {},
   "source": [
    "Recuerda que una de las metas de ajustar modelos es para poder interpolar y extrapolar. Los datos que tenemos mantienen $x \\in [-3, 3]$. ¿Qué pasaría si quisiéramos saber el valor de $y$ cuando $x=5$?\n",
    "\n",
    "Calcula la predicción $\\hat{y}$ para todos los modelos creados (grados 2, 3, 5, 7, 9, y 11)."
   ]
  },
  {
   "cell_type": "code",
   "execution_count": null,
   "id": "414fd25c-5df9-41ee-adea-ac3a7a1a263a",
   "metadata": {},
   "outputs": [],
   "source": []
  },
  {
   "cell_type": "code",
   "execution_count": null,
   "id": "afe571d4-e834-4a2d-be18-f315b4aa4b26",
   "metadata": {},
   "outputs": [],
   "source": []
  },
  {
   "cell_type": "code",
   "execution_count": null,
   "id": "c0d2c371-97ba-49a6-b700-212e429e8112",
   "metadata": {},
   "outputs": [],
   "source": []
  },
  {
   "cell_type": "markdown",
   "id": "b84855b1-7786-438d-925c-71eeba78437c",
   "metadata": {},
   "source": [
    "¿Cuál modelo crees que sea mejor?"
   ]
  },
  {
   "cell_type": "code",
   "execution_count": null,
   "id": "112fc1b7-98e6-48d4-905a-3efc98f79f85",
   "metadata": {},
   "outputs": [],
   "source": []
  },
  {
   "cell_type": "code",
   "execution_count": null,
   "id": "950d13e9-801e-465a-882b-d847964194bd",
   "metadata": {},
   "outputs": [],
   "source": []
  },
  {
   "cell_type": "code",
   "execution_count": null,
   "id": "b80ff459-dc0c-46e2-9f82-1105fa3bcb01",
   "metadata": {},
   "outputs": [],
   "source": []
  },
  {
   "cell_type": "markdown",
   "id": "804cab0a-bee4-4889-a235-62c405c5e332",
   "metadata": {},
   "source": [
    "## Referencia\n",
    "\n",
    "James, G., Witten, D., Hastie, T., Tibshirani, R.,, Taylor, J. (2023). An Introduction to Statistical Learning with Applications in Python. Cham: Springer. ISBN: 978-3-031-38746-3"
   ]
  }
 ],
 "metadata": {
  "kernelspec": {
   "display_name": "Python [conda env:base] *",
   "language": "python",
   "name": "conda-base-py"
  },
  "language_info": {
   "codemirror_mode": {
    "name": "ipython",
    "version": 3
   },
   "file_extension": ".py",
   "mimetype": "text/x-python",
   "name": "python",
   "nbconvert_exporter": "python",
   "pygments_lexer": "ipython3",
   "version": "3.12.7"
  }
 },
 "nbformat": 4,
 "nbformat_minor": 5
}
